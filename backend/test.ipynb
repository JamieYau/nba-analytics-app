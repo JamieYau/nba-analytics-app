{
 "cells": [
  {
   "cell_type": "code",
   "execution_count": 2,
   "id": "e5f35970-20ca-4db4-8105-edb34381f906",
   "metadata": {
    "scrolled": true
   },
   "outputs": [
    {
     "name": "stdout",
     "output_type": "stream",
     "text": [
      "       Team_ID   Game_ID     GAME_DATE      MATCHUP WL   W  L  W_PCT  MIN  FGM  FGA  FG_PCT  FG3M  FG3A  FG3_PCT  FTM  FTA  FT_PCT  OREB  DREB  REB  AST  STL  BLK  TOV  PF  PTS\n",
      "0   1610612744  22400019  NOV 15, 2024  GSW vs. MEM  W  10  2  0.833  240   43   98   0.439    19    46    0.413   18   25   0.720    14    42   56   33    9    6   19  28  123\n",
      "1   1610612744  22400007  NOV 12, 2024  GSW vs. DAL  W   9  2  0.818  240   45   94   0.479    14    41    0.341   16   27   0.593    18    32   50   29   13    7   12  18  120\n",
      "2   1610612744  22400207  NOV 10, 2024    GSW @ OKC  W   8  2  0.800  240   45   89   0.506    21    43    0.488   16   23   0.696    13    33   46   35    8    3   14  26  127\n",
      "3   1610612744  22400188  NOV 08, 2024    GSW @ CLE  L   7  2  0.778  240   47   98   0.480    13    42    0.310   10   14   0.714    11    29   40   32   14    4   17  24  117\n",
      "4   1610612744  22400172  NOV 06, 2024    GSW @ BOS  W   7  1  0.875  240   42   91   0.462    14    34    0.412   20   24   0.833    15    38   53   22    6    5   11  19  118\n",
      "5   1610612744  22400155  NOV 04, 2024    GSW @ WAS  W   6  1  0.857  240   44   97   0.454    12    37    0.324   25   34   0.735    16    40   56   29    5    7    6  20  125\n",
      "6   1610612744  22400144  NOV 02, 2024    GSW @ HOU  W   5  1  0.833  265   40   78   0.513    15    32    0.469   32   50   0.640     9    38   47   26    5    4   14  22  127\n",
      "7   1610612744  22400126  OCT 30, 2024  GSW vs. NOP  W   4  1  0.800  240   41   87   0.471    13    38    0.342    9   13   0.692    13    29   42   32    5    9   13  22  104\n",
      "8   1610612744  22400116  OCT 29, 2024  GSW vs. NOP  W   3  1  0.750  240   46   97   0.474    21    46    0.457   11   13   0.846    11    23   34   34   15    9    7  20  124\n",
      "9   1610612744  22400101  OCT 27, 2024  GSW vs. LAC  L   2  1  0.667  240   38   88   0.432    14    43    0.326   14   22   0.636    14    33   47   19   10    5   21  22  104\n",
      "10  1610612744  22400084  OCT 25, 2024    GSW @ UTA  W   2  0  1.000  240   51  106   0.481    20    50    0.400    5    6   0.833    19    41   60   35   15    6   13  25  127\n",
      "11  1610612744  22400072  OCT 23, 2024    GSW @ POR  W   1  0  1.000  240   48   93   0.516    20    48    0.417   24   30   0.800    15    42   57   38   13    5   17  27  140\n"
     ]
    }
   ],
   "source": [
    "import pandas as pd\n",
    "\n",
    "df = pd.read_csv('warriors_gamelog.csv')\n",
    "\n",
    "print(df.to_string()) "
   ]
  },
  {
   "cell_type": "code",
   "execution_count": null,
   "id": "234f451e-71f8-4fdb-92da-9497abcc6b56",
   "metadata": {},
   "outputs": [],
   "source": []
  }
 ],
 "metadata": {
  "kernelspec": {
   "display_name": "Python 3 (ipykernel)",
   "language": "python",
   "name": "python3"
  },
  "language_info": {
   "codemirror_mode": {
    "name": "ipython",
    "version": 3
   },
   "file_extension": ".py",
   "mimetype": "text/x-python",
   "name": "python",
   "nbconvert_exporter": "python",
   "pygments_lexer": "ipython3",
   "version": "3.10.12"
  }
 },
 "nbformat": 4,
 "nbformat_minor": 5
}
